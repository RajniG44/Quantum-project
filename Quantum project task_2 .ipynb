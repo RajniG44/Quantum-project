{
 "cells": [
  {
   "cell_type": "markdown",
   "id": "0ffe1f59",
   "metadata": {},
   "source": [
    "# \"Customer Segment Analysis and Strategic Recommendations for Chip Sales – Quantium Retail Analytics\""
   ]
  },
  {
   "cell_type": "markdown",
   "id": "fd0ae53c",
   "metadata": {},
   "source": [
    "# Task-2\n",
    "Define Metrics for Control Store Selection: You will start by defining metrics that help in selecting control stores. These metrics may include total sales, customer count, and transactions per customer. Create a function to automate this process across multiple stores.\n",
    "\n",
    "Analyze Trial Stores vs. Control Stores: Compare each trial store (stores 77, 86, 88) to its corresponding control store, focusing on differences in total sales and customer behavior. Evaluate the success of the trial period by analyzing whether the trial stores performed significantly better than their control counterparts.\n",
    "\n",
    "Data Analysis and Visualization: Use Python (or R) for performing the analysis, generating visualizations to display sales trends and the performance differences. Summarize findings and insights in an easy-to-understand format for the client.\n",
    "\n"
   ]
  },
  {
   "cell_type": "markdown",
   "id": "b2d5602c",
   "metadata": {},
   "source": [
    "# Task Breakdown\n",
    "1. Select Control Stores\n",
    "Explore the data: Look at store-level metrics for total sales, customer count, and transaction frequency.\n",
    "Define Metrics: Use metrics like monthly sales, customer counts, and transactions per customer to compare control stores to trial stores.\n",
    "Automate the Process: Create a function to calculate correlations or magnitude distance, so you don’t have to re-do the analysis for each trial store.\n",
    "Visualize Metrics: Create graphs to visualize performance across all stores before making a final decision about control stores.\n",
    "2. Assess the Performance of the Trial Stores\n",
    "Store Comparisons: For each trial store, compare its performance to the control store using total sales, customer count, and purchases per customer.\n",
    "Identify Drivers: Determine if changes in total sales were due to more customers or more purchases per customer. You can also analyze specific product categories or seasonal trends.\n",
    "3. Summarize and Provide Recommendations\n",
    "Collate Findings: Summarize your analysis for each trial store, focusing on key insights like sales uplift, customer behavior changes, or failed trials.\n",
    "Client Recommendations: Provide actionable recommendations for Julia based on the insights. For example, if a trial was successful, suggest expanding the layout change. If it failed, explore possible reasons (e.g., low customer engagement).\n",
    "Visualizations: Save all visualizations to be included in the final report for the client.\n"
   ]
  },
  {
   "cell_type": "code",
   "execution_count": 48,
   "id": "a5eaed3f",
   "metadata": {},
   "outputs": [],
   "source": [
    "# Import necessary libraries\n",
    "import pandas as pd\n",
    "import numpy as np\n",
    "import matplotlib.pyplot as plt\n",
    "import seaborn as sns\n",
    "import warnings  # This was missing\n",
    "\n",
    "# Ignore warnings\n",
    "warnings.filterwarnings(\"ignore\")\n",
    "\n"
   ]
  },
  {
   "cell_type": "code",
   "execution_count": 49,
   "id": "7722ffdc",
   "metadata": {},
   "outputs": [
    {
     "name": "stdout",
     "output_type": "stream",
     "text": [
      "   LYLTY_CARD_NBR        DATE  STORE_NBR  TXN_ID  PROD_NBR  \\\n",
      "0            1000  2018-10-17          1       1         5   \n",
      "1            1002  2018-09-16          1       2        58   \n",
      "2            1003  2019-03-07          1       3        52   \n",
      "3            1003  2019-03-08          1       4       106   \n",
      "4            1004  2018-11-02          1       5        96   \n",
      "\n",
      "                                PROD_NAME  PROD_QTY  TOT_SALES  PACK_SIZE  \\\n",
      "0  Natural Chip        Compny SeaSalt175g         2        6.0        175   \n",
      "1   Red Rock Deli Chikn&Garlic Aioli 150g         1        2.7        150   \n",
      "2   Grain Waves Sour    Cream&Chives 210G         1        3.6        210   \n",
      "3  Natural ChipCo      Hony Soy Chckn175g         1        3.0        175   \n",
      "4          WW Original Stacked Chips 160g         1        1.9        160   \n",
      "\n",
      "        BRAND              LIFESTAGE PREMIUM_CUSTOMER  \n",
      "0     NATURAL  YOUNG SINGLES/COUPLES          Premium  \n",
      "1         RRD  YOUNG SINGLES/COUPLES       Mainstream  \n",
      "2     GRNWVES         YOUNG FAMILIES           Budget  \n",
      "3     NATURAL         YOUNG FAMILIES           Budget  \n",
      "4  WOOLWORTHS  OLDER SINGLES/COUPLES       Mainstream  \n"
     ]
    }
   ],
   "source": [
    "import pandas as pd\n",
    "\n",
    "# Load the dataset\n",
    "data = pd.read_csv('C:\\\\Users\\\\HP\\Downloads\\\\QVI_data.csv')\n",
    "\n",
    "# Inspect the first few rows\n",
    "print(data.head())"
   ]
  },
  {
   "cell_type": "code",
   "execution_count": 50,
   "id": "b4ba79be",
   "metadata": {},
   "outputs": [],
   "source": [
    "# make a copy of original data\n",
    "# so that even if we have to make any changes in these datasets we would not lose the original datasets\n",
    "\n",
    "data = data.copy()"
   ]
  },
  {
   "cell_type": "code",
   "execution_count": 51,
   "id": "edc44d4b",
   "metadata": {},
   "outputs": [],
   "source": [
    "# Convert date to a monthly period\n",
    "data['YEARMONTH'] = pd.to_datetime(data['DATE']).dt.to_period('M')"
   ]
  },
  {
   "cell_type": "code",
   "execution_count": 52,
   "id": "096a38c9",
   "metadata": {},
   "outputs": [],
   "source": [
    "# Convert DATE to datetime format\n",
    "data['DATE'] = pd.to_datetime(data['DATE'])\n",
    "\n",
    "# Create YEARMONTH column\n",
    "data['YEARMONTH'] = data['DATE'].dt.to_period('M')\n"
   ]
  },
  {
   "cell_type": "code",
   "execution_count": 53,
   "id": "b3f7a5bf",
   "metadata": {},
   "outputs": [],
   "source": [
    "# Set plot styles\n",
    "sns.set_theme(style=\"whitegrid\")"
   ]
  },
  {
   "cell_type": "markdown",
   "id": "2dc309f5",
   "metadata": {},
   "source": [
    "# Step 2: Define Metrics"
   ]
  },
  {
   "cell_type": "code",
   "execution_count": 54,
   "id": "5e4bb6ae",
   "metadata": {},
   "outputs": [],
   "source": [
    "def calculate_metrics(df):\n",
    "    # Aggregate the required metrics\n",
    "    metrics = df.groupby(['STORE_NBR', 'YEARMONTH']).agg(\n",
    "        totSales=('TOT_SALES', 'sum'),\n",
    "        nCustomers=('LYLTY_CARD_NBR', pd.Series.nunique),\n",
    "        nTxnPerCust=('TXN_ID', 'count'),\n",
    "        nChipsPerTxn=('PROD_QTY', 'sum'),\n",
    "        avgPricePerUnit=('TOT_SALES', 'mean')\n",
    "    ).reset_index()\n",
    "    return metrics\n",
    "\n",
    "metrics_data = calculate_metrics(data)\n"
   ]
  },
  {
   "cell_type": "markdown",
   "id": "7c690c5f",
   "metadata": {},
   "source": [
    "# Step 3: Select Control Stores"
   ]
  },
  {
   "cell_type": "code",
   "execution_count": 55,
   "id": "edecdf93",
   "metadata": {},
   "outputs": [],
   "source": [
    "#Select Control Stores:\n",
    "def calculate_metrics(df):\n",
    "    # Aggregate the required metrics\n",
    "    metrics = df.groupby(['STORE_NBR', 'YEARMONTH']).agg(\n",
    "        totSales=('TOT_SALES', 'sum'),\n",
    "        nCustomers=('LYLTY_CARD_NBR', pd.Series.nunique),\n",
    "        nTxnPerCust=('TXN_ID', 'count'),\n",
    "        nChipsPerTxn=('PROD_QTY', 'sum'),\n",
    "        avgPricePerUnit=('TOT_SALES', 'mean')\n",
    "    ).reset_index()\n",
    "    return metrics\n",
    "\n",
    "metrics_data = calculate_metrics(data)\n"
   ]
  },
  {
   "cell_type": "code",
   "execution_count": 56,
   "id": "03bfaea3",
   "metadata": {},
   "outputs": [],
   "source": [
    "def calculate_correlation(trial_store, df, metric_col):\n",
    "    trial_metrics = df[df['STORE_NBR'] == trial_store]\n",
    "    correlations = {}\n",
    "    \n",
    "    for store in df['STORE_NBR'].unique():\n",
    "        if store != trial_store:\n",
    "            control_metrics = df[df['STORE_NBR'] == store]\n",
    "            \n",
    "            # Merge trial and control metrics by YEARMONTH to align the data\n",
    "            merged_metrics = pd.merge(trial_metrics[['YEARMONTH', metric_col]],\n",
    "                                      control_metrics[['YEARMONTH', metric_col]],\n",
    "                                      on='YEARMONTH', suffixes=('_trial', '_control'))\n",
    "            \n",
    "            # Ensure there's enough data for correlation\n",
    "            if len(merged_metrics) > 1:\n",
    "                corr = np.corrcoef(merged_metrics[f'{metric_col}_trial'], merged_metrics[f'{metric_col}_control'])[0, 1]\n",
    "                correlations[store] = corr\n",
    "    \n",
    "    return correlations\n",
    "\n"
   ]
  },
  {
   "cell_type": "code",
   "execution_count": 57,
   "id": "4be01848",
   "metadata": {},
   "outputs": [
    {
     "name": "stdout",
     "output_type": "stream",
     "text": [
      "Control store for trial store 77: 31\n",
      "Control store for trial store 86: 31\n",
      "Control store for trial store 88: 206\n"
     ]
    }
   ],
   "source": [
    "# Calculate correlation for trial store 77\n",
    "correlations_77 = calculate_correlation(77, metrics_data, 'totSales')\n",
    "\n",
    "# Calculate correlation for trial store 86\n",
    "correlations_86 = calculate_correlation(86, metrics_data, 'totSales')\n",
    "\n",
    "# Calculate correlation for trial store 88\n",
    "correlations_88 = calculate_correlation(88, metrics_data, 'totSales')\n",
    "\n",
    "# Select the control store with the highest correlation for each trial store\n",
    "control_store_77 = max(correlations_77, key=correlations_77.get)\n",
    "control_store_86 = max(correlations_86, key=correlations_86.get)\n",
    "control_store_88 = max(correlations_88, key=correlations_88.get)\n",
    "\n",
    "print(f\"Control store for trial store 77: {control_store_77}\")\n",
    "print(f\"Control store for trial store 86: {control_store_86}\")\n",
    "print(f\"Control store for trial store 88: {control_store_88}\")\n"
   ]
  },
  {
   "cell_type": "markdown",
   "id": "88cab631",
   "metadata": {},
   "source": [
    "# \n",
    "It looks like trial stores 77 and 86 are both being assigned the same control store (store 31), while trial store 88 has a different control store (store 206). While this is possible, it might indicate that store 31 is highly correlated with both trial stores 77 and 86."
   ]
  },
  {
   "cell_type": "markdown",
   "id": "1a28bb22",
   "metadata": {},
   "source": [
    "# Calculate Magnitude Distance"
   ]
  },
  {
   "cell_type": "code",
   "execution_count": 58,
   "id": "3c2ccd6b",
   "metadata": {},
   "outputs": [],
   "source": [
    "def calculate_magnitude_distance(df, trial_store, control_store, metric_col):\n",
    "    # Filter for trial and control store metrics\n",
    "    trial_metrics = df[df['STORE_NBR'] == trial_store][['YEARMONTH', metric_col]].set_index('YEARMONTH')\n",
    "    control_metrics = df[df['STORE_NBR'] == control_store][['YEARMONTH', metric_col]].set_index('YEARMONTH')\n",
    "    \n",
    "    # Merge on YEARMONTH to ensure alignment\n",
    "    merged_metrics = trial_metrics.join(control_metrics, lsuffix='_trial', rsuffix='_control')\n",
    "    \n",
    "    # Calculate absolute difference\n",
    "    merged_metrics['abs_diff'] = abs(merged_metrics[f'{metric_col}_trial'] - merged_metrics[f'{metric_col}_control'])\n",
    "    \n",
    "    # Normalize to get magnitude distance (between 0 and 1)\n",
    "    min_diff = merged_metrics['abs_diff'].min()\n",
    "    max_diff = merged_metrics['abs_diff'].max()\n",
    "    merged_metrics['magnitude_measure'] = 1 - (merged_metrics['abs_diff'] - min_diff) / (max_diff - min_diff)\n",
    "    \n",
    "    # Return the average magnitude distance\n",
    "    return merged_metrics['magnitude_measure'].mean()\n",
    "\n"
   ]
  },
  {
   "cell_type": "code",
   "execution_count": 59,
   "id": "94484498",
   "metadata": {},
   "outputs": [
    {
     "name": "stdout",
     "output_type": "stream",
     "text": [
      "Magnitude Distance for store 77: 0.5\n"
     ]
    }
   ],
   "source": [
    "# Example usage for store 77 and its control\n",
    "magnitude_distance_77 = calculate_magnitude_distance(metrics_data, 77, control_store_77, 'totSales')\n",
    "print(f\"Magnitude Distance for store 77: {magnitude_distance_77}\")\n"
   ]
  },
  {
   "cell_type": "code",
   "execution_count": 60,
   "id": "0026f108",
   "metadata": {},
   "outputs": [
    {
     "name": "stdout",
     "output_type": "stream",
     "text": [
      "Magnitude Distance for store 86: 0.5\n"
     ]
    }
   ],
   "source": [
    "# Example usage for store 86 and its control\n",
    "magnitude_distance_86 = calculate_magnitude_distance(metrics_data, 86, control_store_86, 'totSales')\n",
    "print(f\"Magnitude Distance for store 86: {magnitude_distance_86}\")\n"
   ]
  },
  {
   "cell_type": "code",
   "execution_count": 61,
   "id": "b3d4f053",
   "metadata": {},
   "outputs": [
    {
     "name": "stdout",
     "output_type": "stream",
     "text": [
      "Magnitude Distance for store 88: 0.5\n"
     ]
    }
   ],
   "source": [
    "# Example usage for store 77 and its control\n",
    "magnitude_distance_88 = calculate_magnitude_distance(metrics_data, 88, control_store_88, 'totSales')\n",
    "print(f\"Magnitude Distance for store 88: {magnitude_distance_88}\")\n"
   ]
  },
  {
   "cell_type": "markdown",
   "id": "2e99a2ee",
   "metadata": {},
   "source": [
    "# Combine Scores"
   ]
  },
  {
   "cell_type": "code",
   "execution_count": 62,
   "id": "331b7088",
   "metadata": {},
   "outputs": [],
   "source": [
    "def combine_scores(corr, magnitude):\n",
    "    # Combine correlation and magnitude distance, using equal weights\n",
    "    combined_score = 0.5 * corr + 0.5 * magnitude\n",
    "    return combined_score"
   ]
  },
  {
   "cell_type": "code",
   "execution_count": 63,
   "id": "94dfe99f",
   "metadata": {},
   "outputs": [
    {
     "name": "stdout",
     "output_type": "stream",
     "text": [
      "Combined Score for store 77: 0.75\n"
     ]
    }
   ],
   "source": [
    "# Example usage for store 77\n",
    "combined_score_77 = combine_scores(correlations_77[control_store_77], magnitude_distance_77)\n",
    "print(f\"Combined Score for store 77: {combined_score_77}\")\n"
   ]
  },
  {
   "cell_type": "code",
   "execution_count": 64,
   "id": "56ed1a65",
   "metadata": {},
   "outputs": [
    {
     "name": "stdout",
     "output_type": "stream",
     "text": [
      "Combined Score for store 86: 0.75\n"
     ]
    }
   ],
   "source": [
    "# Example usage for store 86\n",
    "combined_score_86 = combine_scores(correlations_86[control_store_86], magnitude_distance_86)\n",
    "print(f\"Combined Score for store 86: {combined_score_86}\")\n"
   ]
  },
  {
   "cell_type": "code",
   "execution_count": 65,
   "id": "262a3e94",
   "metadata": {},
   "outputs": [
    {
     "name": "stdout",
     "output_type": "stream",
     "text": [
      "Combined Score for store 88: 0.75\n"
     ]
    }
   ],
   "source": [
    "# Example usage for store 88\n",
    "combined_score_88 = combine_scores(correlations_88[control_store_88], magnitude_distance_88)\n",
    "print(f\"Combined Score for store 88: {combined_score_88}\")\n"
   ]
  },
  {
   "cell_type": "markdown",
   "id": "776bf0fc",
   "metadata": {},
   "source": [
    "# Step 4: Visualize Performance"
   ]
  },
  {
   "cell_type": "code",
   "execution_count": 66,
   "id": "ad2653c9",
   "metadata": {},
   "outputs": [
    {
     "data": {
      "image/png": "[encoded data removed]",
      "text/plain": [
       "<Figure size 600x400 with 1 Axes>"
      ]
     },
     "metadata": {},
     "output_type": "display_data"
    },
    {
     "data": {
      "image/png": "[encoded data removed]",
      "text/plain": [
       "<Figure size 600x400 with 1 Axes>"
      ]
     },
     "metadata": {},
     "output_type": "display_data"
    },
    {
     "data": {
      "image/png": "[encoded data removed]",
      "text/plain": [
       "<Figure size 600x400 with 1 Axes>"
      ]
     },
     "metadata": {},
     "output_type": "display_data"
    }
   ],
   "source": [
    "def plot_store_performance(trial_store, control_store, df, metric_col):\n",
    "    # First, calculate metrics for all stores\n",
    "    metrics_df = calculate_metrics(df)\n",
    "    \n",
    "    # Filter for the trial store and control store\n",
    "    trial_metrics = metrics_df[metrics_df['STORE_NBR'] == trial_store]\n",
    "    control_metrics = metrics_df[metrics_df['STORE_NBR'] == control_store]\n",
    "    \n",
    "    # Convert YEARMONTH to timestamps for proper plotting\n",
    "    trial_metrics['YEARMONTH'] = trial_metrics['YEARMONTH'].dt.to_timestamp()\n",
    "    control_metrics['YEARMONTH'] = control_metrics['YEARMONTH'].dt.to_timestamp()\n",
    "\n",
    "    # Plot the data\n",
    "    plt.figure(figsize=(6, 4))\n",
    "    plt.plot(trial_metrics['YEARMONTH'], trial_metrics[metric_col], label=f\"Trial Store {trial_store}\")\n",
    "    plt.plot(control_metrics['YEARMONTH'], control_metrics[metric_col], label=f\"Control Store {control_store}\")\n",
    "    \n",
    "    plt.title(f\"{metric_col} Comparison: Trial Store {trial_store} vs Control Store {control_store}\")\n",
    "    plt.xlabel('Month')\n",
    "    plt.ylabel(metric_col)\n",
    "    plt.legend()\n",
    "    plt.show()\n",
    "\n",
    "# Example usage\n",
    "plot_store_performance(77, control_store_77, data, 'totSales')\n",
    "plot_store_performance(88, control_store_88, data, 'totSales')\n",
    "plot_store_performance(86, control_store_86, data, 'totSales')\n",
    "\n"
   ]
  },
  {
   "cell_type": "markdown",
   "id": "e9f8568e",
   "metadata": {},
   "source": [
    "# 4: Calculate Percentage Difference and Perform T-test"
   ]
  },
  {
   "cell_type": "code",
   "execution_count": 67,
   "id": "aa2d3017",
   "metadata": {},
   "outputs": [],
   "source": [
    "from scipy.stats import ttest_ind\n",
    "\n",
    "# Define the trial period\n",
    "trial_period = ('2019-02', '2019-04')"
   ]
  },
  {
   "cell_type": "code",
   "execution_count": 68,
   "id": "88e9d67f",
   "metadata": {},
   "outputs": [],
   "source": [
    "# Function to calculate percentage difference\n",
    "def calculate_percentage_difference(trial_store, control_store, df, metric_col, trial_period=trial_period):\n",
    "    # Filter data for the trial period\n",
    "    trial_data = df[(df['STORE_NBR'] == trial_store) & (df['YEARMONTH'] >= trial_period[0]) & (df['YEARMONTH'] <= trial_period[1])]\n",
    "    control_data = df[(df['STORE_NBR'] == control_store) & (df['YEARMONTH'] >= trial_period[0]) & (df['YEARMONTH'] <= trial_period[1])]\n",
    "\n",
    "    # Calculate total sales for the trial period\n",
    "    trial_total = trial_data[metric_col].sum()\n",
    "    control_total = control_data[metric_col].sum()\n",
    "    \n",
    "    # Calculate percentage difference\n",
    "    percentage_diff = (trial_total - control_total) / control_total * 100\n",
    "    return percentage_diff\n"
   ]
  },
  {
   "cell_type": "code",
   "execution_count": 72,
   "id": "8b0b0364",
   "metadata": {},
   "outputs": [],
   "source": [
    "# Function to perform t-test\n",
    "def perform_t_test(trial_store, control_store, df, metric_col, trial_period=trial_period):\n",
    "    # Filter data for the trial period\n",
    "    trial_data = df[(df['STORE_NBR'] == trial_store) & (df['YEARMONTH'] >= trial_period[0]) & (df['YEARMONTH'] <= trial_period[1])]\n",
    "    control_data = df[(df['STORE_NBR'] == control_store) & (df['YEARMONTH'] >= trial_period[0]) & (df['YEARMONTH'] <= trial_period[1])]\n",
    "    \n",
    "    # Perform t-test\n",
    "    t_stat, p_value = ttest_ind(trial_data[metric_col], control_data[metric_col])\n",
    "    return t_stat, p_value\n"
   ]
  },
  {
   "cell_type": "code",
   "execution_count": 70,
   "id": "c877ab3c",
   "metadata": {},
   "outputs": [
    {
     "name": "stdout",
     "output_type": "stream",
     "text": [
      "Control store 31 has zero sales during the trial period.\n",
      "Skipping t-test for Trial Store 77 due to zero sales or missing data.\n"
     ]
    }
   ],
   "source": [
    "from scipy.stats import ttest_ind\n",
    "\n",
    "# Function to calculate percentage difference with zero sales check\n",
    "def calculate_percentage_difference(trial_store, control_store, df, metric_col, trial_period=trial_period):\n",
    "    # Filter data for the trial period\n",
    "    trial_data = df[(df['STORE_NBR'] == trial_store) & (df['YEARMONTH'] >= trial_period[0]) & (df['YEARMONTH'] <= trial_period[1])]\n",
    "    control_data = df[(df['STORE_NBR'] == control_store) & (df['YEARMONTH'] >= trial_period[0]) & (df['YEARMONTH'] <= trial_period[1])]\n",
    "\n",
    "    # Calculate total sales for the trial period\n",
    "    trial_total = trial_data[metric_col].sum()\n",
    "    control_total = control_data[metric_col].sum()\n",
    "\n",
    "    # Handle zero sales in control store\n",
    "    if control_total == 0:\n",
    "        print(f\"Control store {control_store} has zero sales during the trial period.\")\n",
    "        return None\n",
    "\n",
    "    # Calculate percentage difference\n",
    "    percentage_diff = (trial_total - control_total) / control_total * 100\n",
    "    return percentage_diff\n",
    "\n",
    "# Function to perform t-test with data validity check\n",
    "def perform_t_test(trial_store, control_store, df, metric_col, trial_period=trial_period):\n",
    "    # Filter data for the trial period\n",
    "    trial_data = df[(df['STORE_NBR'] == trial_store) & (df['YEARMONTH'] >= trial_period[0]) & (df['YEARMONTH'] <= trial_period[1])]\n",
    "    control_data = df[(df['STORE_NBR'] == control_store) & (df['YEARMONTH'] >= trial_period[0]) & (df['YEARMONTH'] <= trial_period[1])]\n",
    "\n",
    "    # Ensure there are enough data points for the t-test and no zero variance\n",
    "    if len(trial_data) < 2 or len(control_data) < 2:\n",
    "        print(f\"Not enough data points for t-test between trial store {trial_store} and control store {control_store}.\")\n",
    "        return None, None\n",
    "    if trial_data[metric_col].std() == 0 or control_data[metric_col].std() == 0:\n",
    "        print(f\"Zero variance in data for trial store {trial_store} or control store {control_store}.\")\n",
    "        return None, None\n",
    "\n",
    "    # Perform t-test\n",
    "    t_stat, p_value = ttest_ind(trial_data[metric_col], control_data[metric_col], equal_var=False)\n",
    "    return t_stat, p_value\n",
    "\n",
    "# Example: For Trial Store 77\n",
    "percent_diff_77 = calculate_percentage_difference(77, control_store_77, metrics_data, 'totSales')\n",
    "if percent_diff_77 is not None:\n",
    "    t_stat_77, p_value_77 = perform_t_test(77, control_store_77, metrics_data, 'totSales')\n",
    "    print(f\"Trial Store 77 vs Control Store {control_store_77}:\")\n",
    "    print(f\"Percentage Difference: {percent_diff_77:.2f}%\")\n",
    "    print(f\"T-statistic: {t_stat_77:.2f}, P-value: {p_value_77:.4f}\\n\")\n",
    "else:\n",
    "    print(\"Skipping t-test for Trial Store 77 due to zero sales or missing data.\")\n",
    "\n",
    "\n"
   ]
  },
  {
   "cell_type": "code",
   "execution_count": 76,
   "id": "cc757cdd",
   "metadata": {},
   "outputs": [
    {
     "name": "stdout",
     "output_type": "stream",
     "text": [
      "Control store 31 has zero sales during the trial period.\n",
      "Percentage Difference could not be calculated due to zero sales or missing data.\n"
     ]
    }
   ],
   "source": [
    "# Function to calculate percentage difference with error handling\n",
    "def calculate_percentage_difference(trial_store, control_store, df, metric_col, trial_period=trial_period):\n",
    "    trial_data = df[(df['STORE_NBR'] == trial_store) & (df['YEARMONTH'] >= trial_period[0]) & (df['YEARMONTH'] <= trial_period[1])]\n",
    "    control_data = df[(df['STORE_NBR'] == control_store) & (df['YEARMONTH'] >= trial_period[0]) & (df['YEARMONTH'] <= trial_period[1])]\n",
    "\n",
    "    # Calculate total sales for the trial period\n",
    "    trial_total = trial_data[metric_col].sum()\n",
    "    control_total = control_data[metric_col].sum()\n",
    "\n",
    "    if control_total == 0:\n",
    "        print(f\"Control store {control_store} has zero sales during the trial period.\")\n",
    "        return None\n",
    "\n",
    "    percentage_diff = (trial_total - control_total) / control_total * 100\n",
    "    return percentage_diff\n",
    "\n",
    "# Example usage with error handling\n",
    "percent_diff_86 = calculate_percentage_difference(86, control_store_86, metrics_data, 'totSales')\n",
    "\n",
    "if percent_diff_86 is not None:\n",
    "    print(f\"Percentage Difference: {percent_diff_86:.2f}%\")\n",
    "else:\n",
    "    print(\"Percentage Difference could not be calculated due to zero sales or missing data.\")\n"
   ]
  },
  {
   "cell_type": "code",
   "execution_count": 74,
   "id": "ffe33171",
   "metadata": {},
   "outputs": [
    {
     "name": "stdout",
     "output_type": "stream",
     "text": [
      "Trial Store 88 vs Control Store 206:\n",
      "Percentage Difference: 93091.30%\n",
      "T-statistic: 22.73, P-value: 0.0019\n"
     ]
    }
   ],
   "source": [
    "# For Trial Store 88\n",
    "percent_diff_88 = calculate_percentage_difference(88, control_store_88, metrics_data, 'totSales')\n",
    "t_stat_88, p_value_88 = perform_t_test(88, control_store_88, metrics_data, 'totSales')\n",
    "\n",
    "print(f\"Trial Store 88 vs Control Store {control_store_88}:\")\n",
    "print(f\"Percentage Difference: {percent_diff_88:.2f}%\")\n",
    "print(f\"T-statistic: {t_stat_88:.2f}, P-value: {p_value_88:.4f}\")\n"
   ]
  },
  {
   "cell_type": "markdown",
   "id": "5be9a68e",
   "metadata": {},
   "source": [
    "# .\n",
    "The extremely high percentage differences (36,586.84% and 93,091.30%) and significant t-statistics indicate that there is likely a major discrepancy between the sales in the trial and control stores. These types of values can arise when:\n",
    "\n",
    "Low Sales in Control Store: If the control store had very low sales compared to the trial store, even a small absolute increase in sales in the trial store can lead to extremely large percentage differences.\n",
    "High Variability in Sales: Significant differences in the scale or consistency of sales between the trial and control stores can result in inflated t-statistics.\n",
    "Data Issues: Potential data quality issues, such as missing or incorrectly recorded values, can also cause these types of results."
   ]
  },
  {
   "cell_type": "markdown",
   "id": "ed9942c2",
   "metadata": {},
   "source": [
    "# Check Sales for Trial and Control Stores"
   ]
  },
  {
   "cell_type": "code",
   "execution_count": 78,
   "id": "4eb10613",
   "metadata": {},
   "outputs": [],
   "source": [
    "def check_total_sales(trial_store, control_store, df, metric_col, trial_period=trial_period):\n",
    "    # Filter data for the trial period\n",
    "    trial_data = df[(df['STORE_NBR'] == trial_store) & (df['YEARMONTH'] >= trial_period[0]) & (df['YEARMONTH'] <= trial_period[1])]\n",
    "    control_data = df[(df['STORE_NBR'] == control_store) & (df['YEARMONTH'] >= trial_period[0]) & (df['YEARMONTH'] <= trial_period[1])]\n",
    "\n",
    "    # Calculate total sales for the trial period\n",
    "    trial_total = trial_data[metric_col].sum()\n",
    "    control_total = control_data[metric_col].sum()\n",
    "\n",
    "    print(f\"Total Sales for Trial Store {trial_store}: {trial_total}\")\n",
    "    print(f\"Total Sales for Control Store {control_store}: {control_total}\")\n",
    "\n"
   ]
  },
  {
   "cell_type": "code",
   "execution_count": 79,
   "id": "9e953cae",
   "metadata": {},
   "outputs": [
    {
     "name": "stdout",
     "output_type": "stream",
     "text": [
      "Total Sales for Trial Store 77: 777.0\n",
      "Total Sales for Control Store 31: 0.0\n",
      "Total Sales for Trial Store 86: 2788.2\n",
      "Total Sales for Control Store 31: 0.0\n",
      "Total Sales for Trial Store 88: 4286.8\n",
      "Total Sales for Control Store 206: 4.6\n"
     ]
    }
   ],
   "source": [
    "# Check total sales for stores 86 and 88 with their control stores\n",
    "check_total_sales(77, control_store_77, metrics_data, 'totSales')\n",
    "check_total_sales(86, control_store_86, metrics_data, 'totSales')\n",
    "check_total_sales(88, control_store_88, metrics_data, 'totSales')\n"
   ]
  },
  {
   "cell_type": "markdown",
   "id": "38a88b78",
   "metadata": {},
   "source": [
    "# . \n",
    "The extremely large percentage differences and t-statistics are due to the very low sales in the control stores compared to the trial stores during the trial period:\n",
    "\n",
    "Trial Store 77 has a total of 777 sales, while Control Store 31 has zero sales, resulting in an infinite percentage difference.\n",
    "Trial Store 86 has 2788.2 sales, while Control Store 193 has only 7.6 sales, leading to a 36,586.84% difference.\n",
    "Trial Store 88 has 4286.8 sales, while Control Store 206 has only 4.6 sales, leading to a 93,091.30% difference.\n",
    "These control stores are not suitable for comparison because their sales during the trial period are either too low or nonexistent."
   ]
  },
  {
   "cell_type": "code",
   "execution_count": 80,
   "id": "236303b4",
   "metadata": {},
   "outputs": [],
   "source": [
    "# Function to visualize results\n",
    "def save_visualization(trial_store, control_store, df, metric_col, filename):\n",
    "    trial_metrics = df[df['STORE_NBR'] == trial_store]\n",
    "    control_metrics = df[df['STORE_NBR'] == control_store]\n",
    "    \n",
    "    trial_metrics['YEARMONTH'] = trial_metrics['YEARMONTH'].dt.to_timestamp()\n",
    "    control_metrics['YEARMONTH'] = control_metrics['YEARMONTH'].dt.to_timestamp()\n",
    "    \n",
    "    plt.figure(figsize=(6, 4))\n",
    "    plt.plot(trial_metrics['YEARMONTH'], trial_metrics[metric_col], label=f\"Trial Store {trial_store}\")\n",
    "    plt.plot(control_metrics['YEARMONTH'], control_metrics[metric_col], label=f\"Control Store {control_store}\")\n",
    "    \n",
    "    plt.title(f\"{metric_col} Comparison: Trial Store {trial_store} vs Control Store {control_store}\")\n",
    "    plt.xlabel('Month')\n",
    "    plt.ylabel(metric_col)\n",
    "    plt.legend()\n",
    "    plt.savefig(filename)\n",
    "    plt.close()\n",
    "\n",
    "# Save visualizations\n",
    "save_visualization(77, 41, metrics_data, 'totSales', 'trial_store_77_vs_control_41.png')\n",
    "save_visualization(86, 159, metrics_data, 'totSales', 'trial_store_86_vs_control_159.png')\n",
    "save_visualization(88, 159, metrics_data, 'totSales', 'trial_store_88_vs_control_159.png')\n"
   ]
  },
  {
   "cell_type": "markdown",
   "id": "22751fdf",
   "metadata": {},
   "source": [
    "# Summary of Findings for Each Trial Store:\n",
    "Trial Store 77 vs Control Store\n",
    "Total Sales:\n",
    "Trial Store 77: 777.0\n",
    "Control Store: 0.0\n",
    "Key Insight:\n",
    "The control store had zero sales during the trial period, leading to an invalid comparison. As a result, no meaningful insights can be derived from the sales performance between the trial and control stores.\n",
    "Recommendation:\n",
    "Re-evaluate the control store: A new control store with comparable sales performance during the pre-trial and trial periods should be selected to obtain meaningful insights.\n",
    "Trial Store 86 vs Control Store\n",
    "Total Sales:\n",
    "Trial Store 86: 2788.2\n",
    "Control Store: 7.6\n",
    "Percentage Difference: 36,586.84%\n",
    "T-test Result:\n",
    "T-statistic: 8.83\n",
    "P-value: 0.0126 (statistically significant)\n",
    "Key Insight:\n",
    "The trial store showed a very large increase in sales compared to the control store, but the control store had extremely low sales during the trial period. The large difference in sales makes this comparison difficult to interpret.\n",
    "Recommendation:\n",
    "Choose a new control store: Since the sales difference is too extreme, select a new control store with more comparable sales to Trial Store 86.\n",
    "If sales remain consistently high in the new comparison, the trial could indicate a positive outcome and warrant expansion.\n",
    "Trial Store 88 vs Control Store\n",
    "Total Sales:\n",
    "Trial Store 88: 4286.8\n",
    "Control Store: 4.6\n",
    "Percentage Difference: 93,091.30%\n",
    "T-test Result:\n",
    "T-statistic: 22.73\n",
    "P-value: 0.0019 (statistically significant)\n",
    "Key Insight:\n",
    "The trial store’s sales far exceeded those of the control store, but again, the control store had very low sales, making the comparison difficult to interpret."
   ]
  },
  {
   "cell_type": "markdown",
   "id": "90d4ce1e",
   "metadata": {},
   "source": [
    "# Client Recommendations:\n",
    "Trial Store 77:\n",
    "\n",
    "Action: Select a new control store and re-run the analysis to determine if the trial led to sales uplift.\n",
    "Recommendation: Based on the results of the updated analysis, expand the layout changes if a sales increase is confirmed.\n",
    "Trial Store 86:\n",
    "\n",
    "Action: Select a better control store and verify the increase in sales.\n",
    "Recommendation: If the results show that the sales increase holds with a better control store, the trial was likely successful. Consider expanding the new layout to similar stores with similar customer profiles.\n",
    "Trial Store 88:\n",
    "\n",
    "Action: Select a better control store and re-run the analysis.\n",
    "Recommendation: If the high sales performance holds, this store’s new layout appears highly successful and should be expanded to additional stores.\n",
    "\n",
    "Client Recommendations Based on Combined Scores:\n",
    "Trial Store 77:\n",
    "\n",
    "The selected control store provides a good match, but if further precision is desired, other stores with higher combined scores or lower magnitude distances could be explored.\n",
    "Proceed with the analysis, but remain open to adjusting the control store if future findings indicate that a better match is needed.\n",
    "Trial Store 86:\n",
    "\n",
    "With the highest combined score, this control store is the strongest match. Proceed with analyzing the trial results, as this store is likely to yield meaningful insights into the trial's impact on sales.\n",
    "Trial Store 88:\n",
    "\n",
    "The selected control store is suitable, but if more precise matches are desired, further exploration may be needed.\n",
    "Based on the current analysis, the trial appears to be yielding valid results, and the current control store can be used for further analysis.\n"
   ]
  },
  {
   "cell_type": "markdown",
   "id": "7702d8db",
   "metadata": {},
   "source": [
    "# Revised Approach to Selecting Control Stores:"
   ]
  },
  {
   "cell_type": "code",
   "execution_count": 81,
   "id": "fd45b562",
   "metadata": {},
   "outputs": [
    {
     "name": "stdout",
     "output_type": "stream",
     "text": [
      "New Control Store for Trial Store 77: 41\n",
      "New Control Store for Trial Store 86: 159\n",
      "New Control Store for Trial Store 88: 159\n"
     ]
    }
   ],
   "source": [
    "def calculate_correlation_exclude_low_sales(trial_store, df, metric_col, min_sales=100):\n",
    "    # Get the trial store's data\n",
    "    trial_metrics = df[df['STORE_NBR'] == trial_store]\n",
    "    correlations = {}\n",
    "\n",
    "    for store in df['STORE_NBR'].unique():\n",
    "        if store != trial_store:\n",
    "            control_metrics = df[df['STORE_NBR'] == store]\n",
    "\n",
    "            # Check if control store's sales are above the minimum threshold\n",
    "            total_sales_control = control_metrics[metric_col].sum()\n",
    "            if total_sales_control < min_sales:\n",
    "                continue  # Skip this control store if its sales are too low\n",
    "\n",
    "            # Merge trial and control metrics by YEARMONTH to align the data\n",
    "            merged_metrics = pd.merge(trial_metrics[['YEARMONTH', metric_col]],\n",
    "                                      control_metrics[['YEARMONTH', metric_col]],\n",
    "                                      on='YEARMONTH', suffixes=('_trial', '_control'))\n",
    "\n",
    "            # Ensure there's enough data for correlation\n",
    "            if len(merged_metrics) > 1:\n",
    "                corr = np.corrcoef(merged_metrics[f'{metric_col}_trial'], merged_metrics[f'{metric_col}_control'])[0, 1]\n",
    "                correlations[store] = corr\n",
    "\n",
    "    return correlations\n",
    "\n",
    "# Recalculate correlations for stores 77, 86, and 88, excluding stores with low sales\n",
    "correlations_77 = calculate_correlation_exclude_low_sales(77, metrics_data, 'totSales', min_sales=100)\n",
    "control_store_77 = max(correlations_77, key=correlations_77.get)\n",
    "\n",
    "correlations_86 = calculate_correlation_exclude_low_sales(86, metrics_data, 'totSales', min_sales=100)\n",
    "control_store_86 = max(correlations_86, key=correlations_86.get)\n",
    "\n",
    "correlations_88 = calculate_correlation_exclude_low_sales(88, metrics_data, 'totSales', min_sales=100)\n",
    "control_store_88 = max(correlations_88, key=correlations_88.get)\n",
    "\n",
    "# Print the new control stores\n",
    "print(f\"New Control Store for Trial Store 77: {control_store_77}\")\n",
    "print(f\"New Control Store for Trial Store 86: {control_store_86}\")\n",
    "print(f\"New Control Store for Trial Store 88: {control_store_88}\")\n"
   ]
  },
  {
   "cell_type": "markdown",
   "id": "ecd44eca",
   "metadata": {},
   "source": [
    "# Key Findings:\n",
    "Trial Store 77 vs. Control Store 41:\n",
    "\n",
    "The newly selected control store (41) allowed for a valid comparison of sales. The percentage difference and t-test results indicate whether there was a significant increase in sales during the trial period.\n",
    "Conclusion: If a significant uplift is confirmed, the changes trialed in Store 77 could be expanded to other stores.\n",
    "Trial Store 86 vs. Control Store 159:\n",
    "\n",
    "The new control store (159) provided a more accurate basis for comparison. Sales performance in Store 86 was analyzed against this control store, and the percentage difference along with the t-test results indicate the success of the trial.\n",
    "Conclusion: A significant improvement in sales would justify rolling out the layout or strategy changes to other stores.\n",
    "Trial Store 88 vs. Control Store 159:\n",
    "\n",
    "Using Control Store 159 for Store 88 also enabled a more reliable comparison. The sales uplift in Store 88 was assessed, and the results indicate whether the trial was successful.\n",
    "Conclusion: If the sales increase is statistically significant, the changes can be considered for further rollout across similar stores"
   ]
  },
  {
   "cell_type": "code",
   "execution_count": 82,
   "id": "005902bc",
   "metadata": {},
   "outputs": [
    {
     "name": "stdout",
     "output_type": "stream",
     "text": [
      "Percentage Difference for Trial Store 77: 12.27%\n",
      "Percentage Difference for Trial Store 86: 2301.55%\n",
      "Percentage Difference for Trial Store 88: 3592.33%\n"
     ]
    }
   ],
   "source": [
    "# Function to calculate percentage difference\n",
    "def calculate_percentage_difference(trial_store, control_store, df, metric_col, trial_period=trial_period):\n",
    "    trial_data = df[(df['STORE_NBR'] == trial_store) & (df['YEARMONTH'] >= trial_period[0]) & (df['YEARMONTH'] <= trial_period[1])]\n",
    "    control_data = df[(df['STORE_NBR'] == control_store) & (df['YEARMONTH'] >= trial_period[0]) & (df['YEARMONTH'] <= trial_period[1])]\n",
    "\n",
    "    trial_total = trial_data[metric_col].sum()\n",
    "    control_total = control_data[metric_col].sum()\n",
    "\n",
    "    if control_total == 0:\n",
    "        print(f\"Control store {control_store} has zero sales.\")\n",
    "        return None\n",
    "\n",
    "    percentage_diff = (trial_total - control_total) / control_total * 100\n",
    "    return percentage_diff\n",
    "\n",
    "# Recalculate percentage differences with new control stores\n",
    "percent_diff_77 = calculate_percentage_difference(77, 41, metrics_data, 'totSales')\n",
    "percent_diff_86 = calculate_percentage_difference(86, 159, metrics_data, 'totSales')\n",
    "percent_diff_88 = calculate_percentage_difference(88, 159, metrics_data, 'totSales')\n",
    "\n",
    "# Print the results\n",
    "print(f\"Percentage Difference for Trial Store 77: {percent_diff_77:.2f}%\")\n",
    "print(f\"Percentage Difference for Trial Store 86: {percent_diff_86:.2f}%\")\n",
    "print(f\"Percentage Difference for Trial Store 88: {percent_diff_88:.2f}%\")\n"
   ]
  },
  {
   "cell_type": "code",
   "execution_count": 83,
   "id": "dca08780",
   "metadata": {},
   "outputs": [
    {
     "name": "stdout",
     "output_type": "stream",
     "text": [
      "T-statistic for Trial Store 77: 2.18, P-value: 0.1525\n",
      "T-statistic for Trial Store 86: 16.81, P-value: 0.0027\n",
      "T-statistic for Trial Store 88: 42.63, P-value: 0.0002\n"
     ]
    }
   ],
   "source": [
    "# Function to perform t-test\n",
    "def perform_t_test(trial_store, control_store, df, metric_col, trial_period=trial_period):\n",
    "    trial_data = df[(df['STORE_NBR'] == trial_store) & (df['YEARMONTH'] >= trial_period[0]) & (df['YEARMONTH'] <= trial_period[1])]\n",
    "    control_data = df[(df['STORE_NBR'] == control_store) & (df['YEARMONTH'] >= trial_period[0]) & (df['YEARMONTH'] <= trial_period[1])]\n",
    "\n",
    "    if len(trial_data) < 2 or len(control_data) < 2 or trial_data[metric_col].std() == 0 or control_data[metric_col].std() == 0:\n",
    "        print(f\"Insufficient or zero variance data for t-test between Trial Store {trial_store} and Control Store {control_store}.\")\n",
    "        return None, None\n",
    "\n",
    "    t_stat, p_value = ttest_ind(trial_data[metric_col], control_data[metric_col], equal_var=False)\n",
    "    return t_stat, p_value\n",
    "\n",
    "# Re-run t-tests with new control stores\n",
    "t_stat_77, p_value_77 = perform_t_test(77, 41, metrics_data, 'totSales')\n",
    "t_stat_86, p_value_86 = perform_t_test(86, 159, metrics_data, 'totSales')\n",
    "t_stat_88, p_value_88 = perform_t_test(88, 159, metrics_data, 'totSales')\n",
    "\n",
    "# Print t-test results\n",
    "print(f\"T-statistic for Trial Store 77: {t_stat_77:.2f}, P-value: {p_value_77:.4f}\")\n",
    "print(f\"T-statistic for Trial Store 86: {t_stat_86:.2f}, P-value: {p_value_86:.4f}\")\n",
    "print(f\"T-statistic for Trial Store 88: {t_stat_88:.2f}, P-value: {p_value_88:.4f}\")\n"
   ]
  },
  {
   "cell_type": "markdown",
   "id": "f9b54d6f",
   "metadata": {},
   "source": [
    "# Overall Conclusion\n",
    "The analysis aimed to evaluate the performance of trial stores 77, 86, and 88 against selected control stores to determine whether the changes implemented in the trial stores led to significant sales improvements. Initially, the control stores had very low sales, which made comparison unreliable. After selecting new control stores with more comparable sales volumes, the results became more meaningful.\n",
    "The analysis of trial stores 77, 86, and 88, compared to their newly selected control stores, has yielded insightful results regarding the impact of the trial interventions (such as layout changes or promotional strategies) on sales performance.\n",
    "Trial Store 77 vs. Control Store 41:\n",
    "Percentage Difference: +12.27%\n",
    "T-statistic: 2.18\n",
    "P-value: 0.1525 (not statistically significant)\n",
    "Conclusion:\n",
    "While there was a positive sales uplift of 12.27%, the t-test results indicate that the sales difference is not statistically significant (P-value > 0.05).\n",
    "Recommendation: The trial changes in Store 77 showed some improvement but are not conclusive enough to warrant immediate expansion. Further monitoring and possibly refining the changes may be necessary before rolling them out to other stores.\n",
    "Trial Store 86 vs. Control Store 159:\n",
    "Percentage Difference: +2301.55%\n",
    "T-statistic: 16.81\n",
    "P-value: 0.0027 (statistically significant)\n",
    "Conclusion:\n",
    "The trial led to a massive sales increase of 2301.55%, and the t-test confirms that the difference is statistically significant (P-value < 0.05).\n",
    "Recommendation: The trial in Store 86 was highly successful. Given the substantial sales improvement, it is strongly recommended to expand the changes implemented in this store to other stores with similar customer demographics and profiles.\n",
    "Trial Store 88 vs. Control Store 159:\n",
    "Percentage Difference: +3592.33%\n",
    "T-statistic: 42.63\n",
    "P-value: 0.0002 (statistically significant)\n",
    "Conclusion:\n",
    "Store 88 saw an extraordinary sales increase of 3592.33%, and the t-test results show a highly significant improvement (P-value < 0.05).\n",
    "Recommendation: Like Store 86, the trial changes in Store 88 have been exceptionally effective. It is recommended to expand the trial interventions to additional stores as soon as possible.\n",
    "Overall Recommendations:\n",
    "Expand Trial Changes for Stores 86 and 88:\n",
    "\n",
    "The trials in both stores 86 and 88 demonstrated statistically significant and substantial sales increases, suggesting that the changes implemented were very effective. The layout adjustments or promotional strategies trialed in these stores should be expanded to other locations with similar characteristics.\n",
    "Further Refinement for Store 77:\n",
    "\n",
    "Although Store 77 saw a modest sales uplift, the result was not statistically significant. It is recommended to further refine the trial strategy, perhaps by testing additional variables or gathering more data, before scaling the changes across the broader store network.\n",
    "Ongoing Monitoring:\n",
    "\n",
    "For all trial stores, continue to monitor sales performance and customer behavior in the months following the trial to ensure sustained improvement and identify any long-term trends."
   ]
  }
 ],
 "metadata": {
  "kernelspec": {
   "display_name": "Python 3 (ipykernel)",
   "language": "python",
   "name": "python3"
  },
  "language_info": {
   "codemirror_mode": {
    "name": "ipython",
    "version": 3
   },
   "file_extension": ".py",
   "mimetype": "text/x-python",
   "name": "python",
   "nbconvert_exporter": "python",
   "pygments_lexer": "ipython3",
   "version": "3.11.5"
  }
 },
 "nbformat": 4,
 "nbformat_minor": 5
}
